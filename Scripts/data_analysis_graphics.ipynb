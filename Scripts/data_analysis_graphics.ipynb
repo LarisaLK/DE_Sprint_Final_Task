{
  "nbformat": 4,
  "nbformat_minor": 0,
  "metadata": {
    "colab": {
      "provenance": []
    },
    "kernelspec": {
      "name": "python3",
      "display_name": "Python 3"
    },
    "language_info": {
      "name": "python"
    }
  },
  "cells": [
    {
      "cell_type": "code",
      "execution_count": 4,
      "metadata": {
        "id": "uRTqQfsI4d8T"
      },
      "outputs": [],
      "source": [
        "# импорт необходимых библиотек\n",
        "\n",
        "import pandas as pd\n",
        "import numpy as np\n",
        "import matplotlib.pyplot as plt"
      ]
    },
    {
      "cell_type": "code",
      "source": [
        "# считывание данных из csv-файла\n",
        "\n",
        "data = pd.read_csv('/content/yellow_tripdata_2020-01.csv', index_col=0)"
      ],
      "metadata": {
        "colab": {
          "base_uri": "https://localhost:8080/"
        },
        "id": "B6EErkUE5Fmm",
        "outputId": "5f054c75-d156-4d3f-f93a-52e9c7f0f13e"
      },
      "execution_count": 5,
      "outputs": [
        {
          "output_type": "stream",
          "name": "stderr",
          "text": [
            "/usr/local/lib/python3.8/dist-packages/IPython/core/interactiveshell.py:3326: DtypeWarning: Columns (6) have mixed types.Specify dtype option on import or set low_memory=False.\n",
            "  exec(code_obj, self.user_global_ns, self.user_ns)\n"
          ]
        }
      ]
    },
    {
      "cell_type": "code",
      "source": [
        "# размерность данных\n",
        "data.shape"
      ],
      "metadata": {
        "colab": {
          "base_uri": "https://localhost:8080/"
        },
        "id": "tdMFwaLq5Mrq",
        "outputId": "ff54daf7-3092-4e03-c36d-ad8f0d1fedf7"
      },
      "execution_count": 6,
      "outputs": [
        {
          "output_type": "execute_result",
          "data": {
            "text/plain": [
              "(6405008, 17)"
            ]
          },
          "metadata": {},
          "execution_count": 6
        }
      ]
    },
    {
      "cell_type": "code",
      "source": [
        "# первые 5 записей набора данных\n",
        "\n",
        "data.head()"
      ],
      "metadata": {
        "colab": {
          "base_uri": "https://localhost:8080/",
          "height": 301
        },
        "id": "EBcnNh345T1h",
        "outputId": "9fc80c69-3222-4641-adf2-a02ffc8830f1"
      },
      "execution_count": 7,
      "outputs": [
        {
          "output_type": "execute_result",
          "data": {
            "text/plain": [
              "         tpep_pickup_datetime tpep_dropoff_datetime  passenger_count  \\\n",
              "VendorID                                                               \n",
              "1.0       2020-01-01 00:28:15   2020-01-01 00:33:03              1.0   \n",
              "1.0       2020-01-01 00:35:39   2020-01-01 00:43:04              1.0   \n",
              "1.0       2020-01-01 00:47:41   2020-01-01 00:53:52              1.0   \n",
              "1.0       2020-01-01 00:55:23   2020-01-01 01:00:14              1.0   \n",
              "2.0       2020-01-01 00:01:58   2020-01-01 00:04:16              1.0   \n",
              "\n",
              "          trip_distance  RatecodeID store_and_fwd_flag  PULocationID  \\\n",
              "VendorID                                                               \n",
              "1.0                 1.2         1.0                  N           238   \n",
              "1.0                 1.2         1.0                  N           239   \n",
              "1.0                 0.6         1.0                  N           238   \n",
              "1.0                 0.8         1.0                  N           238   \n",
              "2.0                 0.0         1.0                  N           193   \n",
              "\n",
              "          DOLocationID  payment_type  fare_amount  extra  mta_tax  tip_amount  \\\n",
              "VendorID                                                                        \n",
              "1.0                239           1.0          6.0    3.0      0.5        1.47   \n",
              "1.0                238           1.0          7.0    3.0      0.5        1.50   \n",
              "1.0                238           1.0          6.0    3.0      0.5        1.00   \n",
              "1.0                151           1.0          5.5    0.5      0.5        1.36   \n",
              "2.0                193           2.0          3.5    0.5      0.5        0.00   \n",
              "\n",
              "          tolls_amount  improvement_surcharge  total_amount  \\\n",
              "VendorID                                                      \n",
              "1.0                0.0                    0.3         11.27   \n",
              "1.0                0.0                    0.3         12.30   \n",
              "1.0                0.0                    0.3         10.80   \n",
              "1.0                0.0                    0.3          8.16   \n",
              "2.0                0.0                    0.3          4.80   \n",
              "\n",
              "          congestion_surcharge  \n",
              "VendorID                        \n",
              "1.0                        2.5  \n",
              "1.0                        2.5  \n",
              "1.0                        2.5  \n",
              "1.0                        0.0  \n",
              "2.0                        0.0  "
            ],
            "text/html": [
              "\n",
              "  <div id=\"df-180ad958-6ac4-4ee8-873c-c05deeec5ed4\">\n",
              "    <div class=\"colab-df-container\">\n",
              "      <div>\n",
              "<style scoped>\n",
              "    .dataframe tbody tr th:only-of-type {\n",
              "        vertical-align: middle;\n",
              "    }\n",
              "\n",
              "    .dataframe tbody tr th {\n",
              "        vertical-align: top;\n",
              "    }\n",
              "\n",
              "    .dataframe thead th {\n",
              "        text-align: right;\n",
              "    }\n",
              "</style>\n",
              "<table border=\"1\" class=\"dataframe\">\n",
              "  <thead>\n",
              "    <tr style=\"text-align: right;\">\n",
              "      <th></th>\n",
              "      <th>tpep_pickup_datetime</th>\n",
              "      <th>tpep_dropoff_datetime</th>\n",
              "      <th>passenger_count</th>\n",
              "      <th>trip_distance</th>\n",
              "      <th>RatecodeID</th>\n",
              "      <th>store_and_fwd_flag</th>\n",
              "      <th>PULocationID</th>\n",
              "      <th>DOLocationID</th>\n",
              "      <th>payment_type</th>\n",
              "      <th>fare_amount</th>\n",
              "      <th>extra</th>\n",
              "      <th>mta_tax</th>\n",
              "      <th>tip_amount</th>\n",
              "      <th>tolls_amount</th>\n",
              "      <th>improvement_surcharge</th>\n",
              "      <th>total_amount</th>\n",
              "      <th>congestion_surcharge</th>\n",
              "    </tr>\n",
              "    <tr>\n",
              "      <th>VendorID</th>\n",
              "      <th></th>\n",
              "      <th></th>\n",
              "      <th></th>\n",
              "      <th></th>\n",
              "      <th></th>\n",
              "      <th></th>\n",
              "      <th></th>\n",
              "      <th></th>\n",
              "      <th></th>\n",
              "      <th></th>\n",
              "      <th></th>\n",
              "      <th></th>\n",
              "      <th></th>\n",
              "      <th></th>\n",
              "      <th></th>\n",
              "      <th></th>\n",
              "      <th></th>\n",
              "    </tr>\n",
              "  </thead>\n",
              "  <tbody>\n",
              "    <tr>\n",
              "      <th>1.0</th>\n",
              "      <td>2020-01-01 00:28:15</td>\n",
              "      <td>2020-01-01 00:33:03</td>\n",
              "      <td>1.0</td>\n",
              "      <td>1.2</td>\n",
              "      <td>1.0</td>\n",
              "      <td>N</td>\n",
              "      <td>238</td>\n",
              "      <td>239</td>\n",
              "      <td>1.0</td>\n",
              "      <td>6.0</td>\n",
              "      <td>3.0</td>\n",
              "      <td>0.5</td>\n",
              "      <td>1.47</td>\n",
              "      <td>0.0</td>\n",
              "      <td>0.3</td>\n",
              "      <td>11.27</td>\n",
              "      <td>2.5</td>\n",
              "    </tr>\n",
              "    <tr>\n",
              "      <th>1.0</th>\n",
              "      <td>2020-01-01 00:35:39</td>\n",
              "      <td>2020-01-01 00:43:04</td>\n",
              "      <td>1.0</td>\n",
              "      <td>1.2</td>\n",
              "      <td>1.0</td>\n",
              "      <td>N</td>\n",
              "      <td>239</td>\n",
              "      <td>238</td>\n",
              "      <td>1.0</td>\n",
              "      <td>7.0</td>\n",
              "      <td>3.0</td>\n",
              "      <td>0.5</td>\n",
              "      <td>1.50</td>\n",
              "      <td>0.0</td>\n",
              "      <td>0.3</td>\n",
              "      <td>12.30</td>\n",
              "      <td>2.5</td>\n",
              "    </tr>\n",
              "    <tr>\n",
              "      <th>1.0</th>\n",
              "      <td>2020-01-01 00:47:41</td>\n",
              "      <td>2020-01-01 00:53:52</td>\n",
              "      <td>1.0</td>\n",
              "      <td>0.6</td>\n",
              "      <td>1.0</td>\n",
              "      <td>N</td>\n",
              "      <td>238</td>\n",
              "      <td>238</td>\n",
              "      <td>1.0</td>\n",
              "      <td>6.0</td>\n",
              "      <td>3.0</td>\n",
              "      <td>0.5</td>\n",
              "      <td>1.00</td>\n",
              "      <td>0.0</td>\n",
              "      <td>0.3</td>\n",
              "      <td>10.80</td>\n",
              "      <td>2.5</td>\n",
              "    </tr>\n",
              "    <tr>\n",
              "      <th>1.0</th>\n",
              "      <td>2020-01-01 00:55:23</td>\n",
              "      <td>2020-01-01 01:00:14</td>\n",
              "      <td>1.0</td>\n",
              "      <td>0.8</td>\n",
              "      <td>1.0</td>\n",
              "      <td>N</td>\n",
              "      <td>238</td>\n",
              "      <td>151</td>\n",
              "      <td>1.0</td>\n",
              "      <td>5.5</td>\n",
              "      <td>0.5</td>\n",
              "      <td>0.5</td>\n",
              "      <td>1.36</td>\n",
              "      <td>0.0</td>\n",
              "      <td>0.3</td>\n",
              "      <td>8.16</td>\n",
              "      <td>0.0</td>\n",
              "    </tr>\n",
              "    <tr>\n",
              "      <th>2.0</th>\n",
              "      <td>2020-01-01 00:01:58</td>\n",
              "      <td>2020-01-01 00:04:16</td>\n",
              "      <td>1.0</td>\n",
              "      <td>0.0</td>\n",
              "      <td>1.0</td>\n",
              "      <td>N</td>\n",
              "      <td>193</td>\n",
              "      <td>193</td>\n",
              "      <td>2.0</td>\n",
              "      <td>3.5</td>\n",
              "      <td>0.5</td>\n",
              "      <td>0.5</td>\n",
              "      <td>0.00</td>\n",
              "      <td>0.0</td>\n",
              "      <td>0.3</td>\n",
              "      <td>4.80</td>\n",
              "      <td>0.0</td>\n",
              "    </tr>\n",
              "  </tbody>\n",
              "</table>\n",
              "</div>\n",
              "      <button class=\"colab-df-convert\" onclick=\"convertToInteractive('df-180ad958-6ac4-4ee8-873c-c05deeec5ed4')\"\n",
              "              title=\"Convert this dataframe to an interactive table.\"\n",
              "              style=\"display:none;\">\n",
              "        \n",
              "  <svg xmlns=\"http://www.w3.org/2000/svg\" height=\"24px\"viewBox=\"0 0 24 24\"\n",
              "       width=\"24px\">\n",
              "    <path d=\"M0 0h24v24H0V0z\" fill=\"none\"/>\n",
              "    <path d=\"M18.56 5.44l.94 2.06.94-2.06 2.06-.94-2.06-.94-.94-2.06-.94 2.06-2.06.94zm-11 1L8.5 8.5l.94-2.06 2.06-.94-2.06-.94L8.5 2.5l-.94 2.06-2.06.94zm10 10l.94 2.06.94-2.06 2.06-.94-2.06-.94-.94-2.06-.94 2.06-2.06.94z\"/><path d=\"M17.41 7.96l-1.37-1.37c-.4-.4-.92-.59-1.43-.59-.52 0-1.04.2-1.43.59L10.3 9.45l-7.72 7.72c-.78.78-.78 2.05 0 2.83L4 21.41c.39.39.9.59 1.41.59.51 0 1.02-.2 1.41-.59l7.78-7.78 2.81-2.81c.8-.78.8-2.07 0-2.86zM5.41 20L4 18.59l7.72-7.72 1.47 1.35L5.41 20z\"/>\n",
              "  </svg>\n",
              "      </button>\n",
              "      \n",
              "  <style>\n",
              "    .colab-df-container {\n",
              "      display:flex;\n",
              "      flex-wrap:wrap;\n",
              "      gap: 12px;\n",
              "    }\n",
              "\n",
              "    .colab-df-convert {\n",
              "      background-color: #E8F0FE;\n",
              "      border: none;\n",
              "      border-radius: 50%;\n",
              "      cursor: pointer;\n",
              "      display: none;\n",
              "      fill: #1967D2;\n",
              "      height: 32px;\n",
              "      padding: 0 0 0 0;\n",
              "      width: 32px;\n",
              "    }\n",
              "\n",
              "    .colab-df-convert:hover {\n",
              "      background-color: #E2EBFA;\n",
              "      box-shadow: 0px 1px 2px rgba(60, 64, 67, 0.3), 0px 1px 3px 1px rgba(60, 64, 67, 0.15);\n",
              "      fill: #174EA6;\n",
              "    }\n",
              "\n",
              "    [theme=dark] .colab-df-convert {\n",
              "      background-color: #3B4455;\n",
              "      fill: #D2E3FC;\n",
              "    }\n",
              "\n",
              "    [theme=dark] .colab-df-convert:hover {\n",
              "      background-color: #434B5C;\n",
              "      box-shadow: 0px 1px 3px 1px rgba(0, 0, 0, 0.15);\n",
              "      filter: drop-shadow(0px 1px 2px rgba(0, 0, 0, 0.3));\n",
              "      fill: #FFFFFF;\n",
              "    }\n",
              "  </style>\n",
              "\n",
              "      <script>\n",
              "        const buttonEl =\n",
              "          document.querySelector('#df-180ad958-6ac4-4ee8-873c-c05deeec5ed4 button.colab-df-convert');\n",
              "        buttonEl.style.display =\n",
              "          google.colab.kernel.accessAllowed ? 'block' : 'none';\n",
              "\n",
              "        async function convertToInteractive(key) {\n",
              "          const element = document.querySelector('#df-180ad958-6ac4-4ee8-873c-c05deeec5ed4');\n",
              "          const dataTable =\n",
              "            await google.colab.kernel.invokeFunction('convertToInteractive',\n",
              "                                                     [key], {});\n",
              "          if (!dataTable) return;\n",
              "\n",
              "          const docLinkHtml = 'Like what you see? Visit the ' +\n",
              "            '<a target=\"_blank\" href=https://colab.research.google.com/notebooks/data_table.ipynb>data table notebook</a>'\n",
              "            + ' to learn more about interactive tables.';\n",
              "          element.innerHTML = '';\n",
              "          dataTable['output_type'] = 'display_data';\n",
              "          await google.colab.output.renderOutput(dataTable, element);\n",
              "          const docLink = document.createElement('div');\n",
              "          docLink.innerHTML = docLinkHtml;\n",
              "          element.appendChild(docLink);\n",
              "        }\n",
              "      </script>\n",
              "    </div>\n",
              "  </div>\n",
              "  "
            ]
          },
          "metadata": {},
          "execution_count": 7
        }
      ]
    },
    {
      "cell_type": "code",
      "source": [
        "# построим график зависимости чаевых от количества пассажиров\n",
        "# для этого сгруппируем данные по количеству пассажиров и найдем среднее значение чаевых для каждой группы\n",
        "\n",
        "data.groupby(by=\"passenger_count\")[\"tip_amount\"].mean().plot(kind = \"bar\")"
      ],
      "metadata": {
        "colab": {
          "base_uri": "https://localhost:8080/",
          "height": 303
        },
        "id": "LxSNkcnW8jbw",
        "outputId": "bec0c0e9-43eb-4682-e190-20b96c6c368d"
      },
      "execution_count": 8,
      "outputs": [
        {
          "output_type": "execute_result",
          "data": {
            "text/plain": [
              "<matplotlib.axes._subplots.AxesSubplot at 0x7f46e8115070>"
            ]
          },
          "metadata": {},
          "execution_count": 8
        },
        {
          "output_type": "display_data",
          "data": {
            "text/plain": [
              "<Figure size 432x288 with 1 Axes>"
            ],
            "image/png": "[encoded data removed]"
          },
          "metadata": {
            "needs_background": "light"
          }
        }
      ]
    },
    {
      "cell_type": "code",
      "source": [
        "data.groupby(by=\"passenger_count\")[\"tip_amount\"].mean()"
      ],
      "metadata": {
        "colab": {
          "base_uri": "https://localhost:8080/"
        },
        "id": "ZHa_6-sP7ebb",
        "outputId": "448eb0bf-aebb-4e55-d602-f3c0f11c93b4"
      },
      "execution_count": 9,
      "outputs": [
        {
          "output_type": "execute_result",
          "data": {
            "text/plain": [
              "passenger_count\n",
              "0.0    2.117647\n",
              "1.0    2.214389\n",
              "2.0    2.233318\n",
              "3.0    2.161958\n",
              "4.0    2.070792\n",
              "5.0    2.219931\n",
              "6.0    2.233537\n",
              "7.0    6.552759\n",
              "8.0    4.960000\n",
              "9.0    7.793158\n",
              "Name: tip_amount, dtype: float64"
            ]
          },
          "metadata": {},
          "execution_count": 9
        }
      ]
    },
    {
      "cell_type": "markdown",
      "source": [
        "Вывод: \n",
        "\n",
        "- при количестве пассажиров от 0 до 6 среднее значение чаевых примерно одинаково и составляет порядка 2 ден.ед.;\n",
        "\n",
        "- при количестве пассажиров от 7 человек и более сумма чаевых значительно возрастает и наибольшее значение достигается при количестве пассажиров равном 9  (~7.8 ден.ед.)."
      ],
      "metadata": {
        "id": "eQEI341sB9fI"
      }
    },
    {
      "cell_type": "code",
      "source": [
        "# построим график зависимости чаевых от пройденного расстояния\n",
        "# для этого непрерывную переменную \"пройденное расстояние\" разобъем на 25 групп\n",
        "# сгруппируем данные по выделенным интервалам и найдем среднее значение чаевых для каждого интервала\n",
        "\n",
        "data[\"groups_distance\"] = pd.qcut(data[\"trip_distance\"], q=25)\n",
        "\n",
        "data.groupby(by=\"groups_distance\")[\"tip_amount\"].mean().plot(kind = \"bar\")"
      ],
      "metadata": {
        "colab": {
          "base_uri": "https://localhost:8080/",
          "height": 431
        },
        "id": "Abqzi6TuOJuO",
        "outputId": "3f23e58b-e0ef-489e-e217-9738805c1bd9"
      },
      "execution_count": 10,
      "outputs": [
        {
          "output_type": "execute_result",
          "data": {
            "text/plain": [
              "<matplotlib.axes._subplots.AxesSubplot at 0x7f46e78611f0>"
            ]
          },
          "metadata": {},
          "execution_count": 10
        },
        {
          "output_type": "display_data",
          "data": {
            "text/plain": [
              "<Figure size 432x288 with 1 Axes>"
            ],
            "image/png": "[encoded data removed]"
          },
          "metadata": {
            "needs_background": "light"
          }
        }
      ]
    },
    {
      "cell_type": "code",
      "source": [
        "data.groupby(by=\"groups_distance\")[\"tip_amount\"].mean()"
      ],
      "metadata": {
        "colab": {
          "base_uri": "https://localhost:8080/"
        },
        "id": "SwylNGYRWZg-",
        "outputId": "11cdf3be-ea43-4928-98d9-a296f60ca664"
      },
      "execution_count": 11,
      "outputs": [
        {
          "output_type": "execute_result",
          "data": {
            "text/plain": [
              "groups_distance\n",
              "(-30.621000000000002, 0.4]    1.568172\n",
              "(0.4, 0.57]                   1.065406\n",
              "(0.57, 0.68]                  1.154429\n",
              "(0.68, 0.77]                  1.225028\n",
              "(0.77, 0.85]                  1.279211\n",
              "(0.85, 0.93]                  1.341810\n",
              "(0.93, 1.01]                  1.395405\n",
              "(1.01, 1.1]                   1.450453\n",
              "(1.1, 1.2]                    1.507821\n",
              "(1.2, 1.3]                    1.570238\n",
              "(1.3, 1.41]                   1.628354\n",
              "(1.41, 1.54]                  1.687948\n",
              "(1.54, 1.68]                  1.749223\n",
              "(1.68, 1.8]                   1.812304\n",
              "(1.8, 1.99]                   1.889273\n",
              "(1.99, 2.17]                  1.967607\n",
              "(2.17, 2.4]                   2.063672\n",
              "(2.4, 2.68]                   2.165717\n",
              "(2.68, 3.03]                  2.286403\n",
              "(3.03, 3.53]                  2.432572\n",
              "(3.53, 4.3]                   2.664957\n",
              "(4.3, 5.62]                   2.939803\n",
              "(5.62, 8.03]                  3.468638\n",
              "(8.03, 12.47]                 4.928456\n",
              "(12.47, 210240.07]            7.535603\n",
              "Name: tip_amount, dtype: float64"
            ]
          },
          "metadata": {},
          "execution_count": 11
        }
      ]
    },
    {
      "cell_type": "code",
      "source": [
        "# максимальное значение пройденного расстояния\n",
        "\n",
        "max_distance = data[\"trip_distance\"].max()\n",
        "max_distance"
      ],
      "metadata": {
        "colab": {
          "base_uri": "https://localhost:8080/"
        },
        "id": "p3yqqzMXDw7w",
        "outputId": "60b6538b-d791-4194-f849-b1e47474bec7"
      },
      "execution_count": 12,
      "outputs": [
        {
          "output_type": "execute_result",
          "data": {
            "text/plain": [
              "210240.07"
            ]
          },
          "metadata": {},
          "execution_count": 12
        }
      ]
    },
    {
      "cell_type": "code",
      "source": [
        "# минимальное значение пройденного расстояния\n",
        "\n",
        "min_distance = data[\"trip_distance\"].min()\n",
        "min_distance"
      ],
      "metadata": {
        "colab": {
          "base_uri": "https://localhost:8080/"
        },
        "id": "81no7AhfEB0u",
        "outputId": "54bd4d9b-f1c1-4dbc-e726-f3ad51ff53a7"
      },
      "execution_count": 13,
      "outputs": [
        {
          "output_type": "execute_result",
          "data": {
            "text/plain": [
              "-30.62"
            ]
          },
          "metadata": {},
          "execution_count": 13
        }
      ]
    },
    {
      "cell_type": "markdown",
      "source": [
        "Вывод:\n",
        "\n",
        "- согласно полученному графику можно сделать вывод, что в среднем при увеличении дистанции поездки увеличивается значение чаевых;\n",
        "\n",
        "- отметим, что в данных для пройденного расстояния имеются аномальные минимальное и максимальное значения (поэтому для более детальной аналитики необходимо более подробно исследовать имеющиеся данные)."
      ],
      "metadata": {
        "id": "iJaor3VlXtAf"
      }
    }
  ]
}